{
 "cells": [
  {
   "cell_type": "markdown",
   "id": "8af5f58e-6094-47f9-9d98-880497110823",
   "metadata": {},
   "source": [
    "# tools for data science"
   ]
  },
  {
   "cell_type": "code",
   "execution_count": null,
   "id": "ca90925a-dc3f-44ba-b516-1b3a654f88f5",
   "metadata": {},
   "outputs": [],
   "source": [
    "1.jupyter notebook\n",
    "2.rstudio\n",
    "3.watson studio\n",
    "4.tableau\n",
    "5.powerbi\n",
    "6.visual studio\n",
    "7.sql\n",
    "8.git and git github\n",
    "9.pyhton and r\n",
    "10.mangodb "
   ]
  }
 ],
 "metadata": {
  "kernelspec": {
   "display_name": "Python",
   "language": "python",
   "name": "conda-env-python-py"
  },
  "language_info": {
   "codemirror_mode": {
    "name": "ipython",
    "version": 3
   },
   "file_extension": ".py",
   "mimetype": "text/x-python",
   "name": "python",
   "nbconvert_exporter": "python",
   "pygments_lexer": "ipython3",
   "version": "3.7.12"
  }
 },
 "nbformat": 4,
 "nbformat_minor": 5
}
