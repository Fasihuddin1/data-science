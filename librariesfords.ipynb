{
 "cells": [
  {
   "cell_type": "markdown",
   "id": "c519e7ed-7a77-4bc8-a13e-1b5d98a29f3c",
   "metadata": {},
   "source": [
    "# libraries for data science"
   ]
  },
  {
   "cell_type": "code",
   "execution_count": null,
   "id": "81013a68-8cc7-4dd9-9d8f-404514a5d83c",
   "metadata": {},
   "outputs": [],
   "source": [
    "1.numpy\n",
    "2.pandas\n",
    "3.matplotlib\n",
    "4.tensorflow\n",
    "5.scikit learn"
   ]
  }
 ],
 "metadata": {
  "kernelspec": {
   "display_name": "Python",
   "language": "python",
   "name": "conda-env-python-py"
  },
  "language_info": {
   "codemirror_mode": {
    "name": "ipython",
    "version": 3
   },
   "file_extension": ".py",
   "mimetype": "text/x-python",
   "name": "python",
   "nbconvert_exporter": "python",
   "pygments_lexer": "ipython3",
   "version": "3.7.12"
  }
 },
 "nbformat": 4,
 "nbformat_minor": 5
}
