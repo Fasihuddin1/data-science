{
 "cells": [
  {
   "cell_type": "markdown",
   "id": "9fb19e2a-8e84-46f8-81be-8e0608628c13",
   "metadata": {},
   "source": [
    "# hours to minutes"
   ]
  },
  {
   "cell_type": "code",
   "execution_count": 1,
   "id": "452c08a7-b307-436f-b6ea-f4fddaf6a12c",
   "metadata": {},
   "outputs": [
    {
     "name": "stdout",
     "output_type": "stream",
     "text": [
      "60 minutes is equal to 1.0 hours.\n"
     ]
    }
   ],
   "source": [
    "minutes = 60\n",
    "hours = minutes/60\n",
    "print(minutes,'minutes is equal to',hours,'hours.')"
   ]
  },
  {
   "cell_type": "code",
   "execution_count": null,
   "id": "89a0b205-fb9a-4dbb-9074-ca6bf9581619",
   "metadata": {},
   "outputs": [],
   "source": []
  }
 ],
 "metadata": {
  "kernelspec": {
   "display_name": "Python",
   "language": "python",
   "name": "conda-env-python-py"
  },
  "language_info": {
   "codemirror_mode": {
    "name": "ipython",
    "version": 3
   },
   "file_extension": ".py",
   "mimetype": "text/x-python",
   "name": "python",
   "nbconvert_exporter": "python",
   "pygments_lexer": "ipython3",
   "version": "3.7.12"
  }
 },
 "nbformat": 4,
 "nbformat_minor": 5
}
