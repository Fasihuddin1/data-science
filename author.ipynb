{
 "cells": [
  {
   "cell_type": "markdown",
   "id": "dc7e4195-d513-497d-a01b-6c5a75d70f7c",
   "metadata": {},
   "source": [
    "# author"
   ]
  },
  {
   "cell_type": "code",
   "execution_count": null,
   "id": "7e6676ac-0fdc-4afa-aeae-d3579245b747",
   "metadata": {},
   "outputs": [],
   "source": [
    "my name is fasih uddin."
   ]
  }
 ],
 "metadata": {
  "kernelspec": {
   "display_name": "Python",
   "language": "python",
   "name": "conda-env-python-py"
  },
  "language_info": {
   "codemirror_mode": {
    "name": "ipython",
    "version": 3
   },
   "file_extension": ".py",
   "mimetype": "text/x-python",
   "name": "python",
   "nbconvert_exporter": "python",
   "pygments_lexer": "ipython3",
   "version": "3.7.12"
  }
 },
 "nbformat": 4,
 "nbformat_minor": 5
}
