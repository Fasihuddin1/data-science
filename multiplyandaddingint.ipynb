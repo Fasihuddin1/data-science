{
 "cells": [
  {
   "cell_type": "markdown",
   "id": "443874b7-6569-42ea-9a6b-8e130b86b82d",
   "metadata": {},
   "source": [
    "# multiply and adding integer"
   ]
  },
  {
   "cell_type": "code",
   "execution_count": 1,
   "id": "ce5a9ef5-d534-462f-97be-c64a43802090",
   "metadata": {},
   "outputs": [
    {
     "name": "stdout",
     "output_type": "stream",
     "text": [
      "24\n"
     ]
    }
   ],
   "source": [
    "ab = 6 \n",
    "bc = 4\n",
    "print(ab*bc)"
   ]
  },
  {
   "cell_type": "code",
   "execution_count": 2,
   "id": "28e28768-9ce7-48f4-a760-549288f0f5cb",
   "metadata": {},
   "outputs": [
    {
     "name": "stdout",
     "output_type": "stream",
     "text": [
      "1.5\n"
     ]
    }
   ],
   "source": [
    "print(ab/bc)"
   ]
  },
  {
   "cell_type": "code",
   "execution_count": null,
   "id": "0afcaa19-d5bc-4731-aff6-7a08ea47ccf7",
   "metadata": {},
   "outputs": [],
   "source": []
  }
 ],
 "metadata": {
  "kernelspec": {
   "display_name": "Python",
   "language": "python",
   "name": "conda-env-python-py"
  },
  "language_info": {
   "codemirror_mode": {
    "name": "ipython",
    "version": 3
   },
   "file_extension": ".py",
   "mimetype": "text/x-python",
   "name": "python",
   "nbconvert_exporter": "python",
   "pygments_lexer": "ipython3",
   "version": "3.7.12"
  }
 },
 "nbformat": 4,
 "nbformat_minor": 5
}
